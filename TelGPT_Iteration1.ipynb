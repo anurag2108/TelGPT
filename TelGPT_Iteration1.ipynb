{
  "nbformat": 4,
  "nbformat_minor": 0,
  "metadata": {
    "colab": {
      "provenance": [],
      "gpuType": "T4"
    },
    "kernelspec": {
      "name": "python3",
      "display_name": "Python 3"
    },
    "language_info": {
      "name": "python"
    },
    "accelerator": "GPU"
  },
  "cells": [
    {
      "cell_type": "code",
      "execution_count": 1,
      "metadata": {
        "colab": {
          "base_uri": "https://localhost:8080/"
        },
        "id": "TIurMg0Jv1d6",
        "outputId": "dc5ec818-a929-4075-85d7-7738cf77e287"
      },
      "outputs": [
        {
          "output_type": "stream",
          "name": "stdout",
          "text": [
            "Mounted at /content/gdrive\n"
          ]
        }
      ],
      "source": [
        "from google.colab import drive\n",
        "drive.mount('/content/gdrive')"
      ]
    },
    {
      "cell_type": "code",
      "source": [
        "import pandas as pd\n",
        "df = pd.read_csv(\"/content/gdrive/MyDrive/telugu_books.csv\")"
      ],
      "metadata": {
        "id": "7pl6_7JkwS2J"
      },
      "execution_count": 2,
      "outputs": []
    },
    {
      "cell_type": "code",
      "source": [
        "text = ' '.join(df['text'].astype(str))"
      ],
      "metadata": {
        "id": "PuUvDjbZwh2F"
      },
      "execution_count": 3,
      "outputs": []
    },
    {
      "cell_type": "code",
      "source": [
        "print(text[:1000])"
      ],
      "metadata": {
        "colab": {
          "base_uri": "https://localhost:8080/"
        },
        "id": "SH7Nq5dc2qey",
        "outputId": "e643f319-45c2-419d-fc09-28c7f77d5636"
      },
      "execution_count": 4,
      "outputs": [
        {
          "output_type": "stream",
          "name": "stdout",
          "text": [
            "\r\n",
            "    సుశీలమ్మ కళ్ళలో భయం పారాడింది.\r\n",
            "    \"అనాధ బిడ్డ అని చిన్నప్పుడే తెలిస్తే మన దగ్గిరవాడు అలా అరమరిక లేకుండా చనువుగా పెరిగేవాడా?\" పుట్టెడు దిగులు సుశీలమ్మ కంఠంలో పలికింది.\r\n",
            "    \"అది మనం పెంచేదాన్ని బట్టి వుంటుంది. అటువంటి బేధాలు మనలో లేనట్టు తెలుసుకొనేలా పెంచాలి.\"\r\n",
            "    \"చాలామంది అలాగే పెంచుతారు గదండీ.\"\r\n",
            "    \"ఏనాడో ఒకనాడు ఆ విషయం తెలియకపోదు. మనం పట్నంలో వుంటున్నాం గనక యింత కాలమయినా ఈ రహస్యాన్ని దాచగలిగాం.\r\n",
            "    సుశీలమ్మ వింటూ కూర్చుంది.\r\n",
            "    \"ఒక వ్యక్తిత్వం అంటూ ఏర్పడ్డాక ఆ రహస్యం తెలిస్తే లోతుగా గాయపడతారు. అనేక ఆలోచనలు వస్తాయి. చిన్నప్పుడే తెలిస్తే అంతగా తలక్రిందులై పోరు\" అన్నాడు.  \r\n",
            "    \"వాడు మనల్ని వదిలేసి వెళ్ళిపోతాడేమో!\" అనలేక అంటున్న ఆమె గొంతులో ఏదో అడ్డుపడినట్టు ఉక్కిరిబిక్కిరి అయిపోతుంది.\r\n",
            "    రామనాథానికి కూడా ఆ భయం లేకపోలేదు.\r\n",
            "    ఆ భయాన్ని దాచుకుంటూ వెళ్ళడు. ఎలా వెళతాడు? ఎక్కడికి వెళతాడు? అసలు ఎందుకు వెళ్ళాలి? వాడికి మనమేం తక్కువ చేశామని వెళ్తాడు?\" అన్నాడు.\r\n",
            "    సుశీలమ్మకు ఎక్కడికో లోతు తెలియని అగాధంలోకి పడుతున్న వ్యక్తికి జారుడుమెట్లు చేతికి అందినట్టు అనిపించింది.   \r\n",
            "    \"\n"
          ]
        }
      ]
    },
    {
      "cell_type": "code",
      "source": [
        "print(\"The number of characters in the combined text:\", len(text))"
      ],
      "metadata": {
        "colab": {
          "base_uri": "https://localhost:8080/"
        },
        "id": "DPz-JFPHx7XY",
        "outputId": "959339e3-b1f1-499b-9b37-3ecf6dbf9228"
      },
      "execution_count": 5,
      "outputs": [
        {
          "output_type": "stream",
          "name": "stdout",
          "text": [
            "The number of characters in the combined text: 122087065\n"
          ]
        }
      ]
    },
    {
      "cell_type": "code",
      "source": [
        "# here are all the unique characters that occur in this text\n",
        "chars = sorted(list(set(text)))\n",
        "vocab_size = len(chars)\n",
        "print(''.join(chars))\n",
        "print(vocab_size)"
      ],
      "metadata": {
        "colab": {
          "base_uri": "https://localhost:8080/"
        },
        "id": "wFlSDu0uyiqV",
        "outputId": "3be06211-9f25-4776-8620-5d7def41a020"
      },
      "execution_count": 6,
      "outputs": [
        {
          "output_type": "stream",
          "name": "stdout",
          "text": [
            "\n",
            "\r !\"#%&'()*+,-./0123456789:;<=>?@ABCDEFGHIJKLMNOPQRSTUVWXYZ[\\]^_`abcdefghijklmnopqrstuvwxyz{|~ ँंअआईउएकखगचछजझडढतथदनपफबमयरलवसह़ािीुूेैो्फ़ఁంఃఅఆఇఈఉఊఋఎఏఐఒఓఔకఖగఘఙచఛజఝఞటఠడఢణతథదధనపఫబభమయరఱలళవశషసహాిీుూృౄెేైొోౌ్ౖౠ౦౧౨౩౪౫౬౭౮౯‌‍‎‪⁮�\n",
            "220\n"
          ]
        }
      ]
    },
    {
      "cell_type": "code",
      "source": [
        "#Data cleaning to only have telugu characters\n",
        "def retain_telugu_and_special_combined(text):\n",
        "    allowed_specials = set('!\"#%&\\'()*+,-./0123456789:;<=>?')\n",
        "    return ''.join(\n",
        "        c for c in text\n",
        "        if ('\\u0C00' <= c <= '\\u0C7F') or c.isspace() or (c in allowed_specials)\n",
        "    )"
      ],
      "metadata": {
        "id": "GoVPgf42yzhf"
      },
      "execution_count": 7,
      "outputs": []
    },
    {
      "cell_type": "code",
      "source": [
        "cleaned_text = retain_telugu_and_special_combined(text)"
      ],
      "metadata": {
        "id": "33q7-4fJ069l"
      },
      "execution_count": 8,
      "outputs": []
    },
    {
      "cell_type": "code",
      "source": [
        "print(\"The number of characters in the cleaned text:\", len(cleaned_text))"
      ],
      "metadata": {
        "colab": {
          "base_uri": "https://localhost:8080/"
        },
        "id": "hODeRSYo2zmJ",
        "outputId": "f41dfa4e-f02e-40d2-d118-b30332211004"
      },
      "execution_count": 9,
      "outputs": [
        {
          "output_type": "stream",
          "name": "stdout",
          "text": [
            "The number of characters in the cleaned text: 121953879\n"
          ]
        }
      ]
    },
    {
      "cell_type": "code",
      "source": [
        "chars = sorted(list(set(cleaned_text)))\n",
        "vocab_size = len(chars)\n",
        "print(''.join(chars))\n",
        "print(vocab_size)"
      ],
      "metadata": {
        "colab": {
          "base_uri": "https://localhost:8080/"
        },
        "id": "UaeoF-x10_U_",
        "outputId": "f505e614-6074-48b5-a4b8-95e6a8253e27"
      },
      "execution_count": 10,
      "outputs": [
        {
          "output_type": "stream",
          "name": "stdout",
          "text": [
            "\n",
            "\r !\"#%&'()*+,-./0123456789:;<=>? ఁంఃఅఆఇఈఉఊఋఎఏఐఒఓఔకఖగఘఙచఛజఝఞటఠడఢణతథదధనపఫబభమయరఱలళవశషసహాిీుూృౄెేైొోౌ్ౖౠ౦౧౨౩౪౫౬౭౮౯\n",
            "111\n"
          ]
        }
      ]
    },
    {
      "cell_type": "code",
      "source": [
        "#create a mapping from characters to integers\n",
        "stoi = { ch:i for i,ch in enumerate(chars) }\n",
        "itos = { i:ch for i,ch in enumerate(chars) }\n",
        "encode = lambda s: [stoi[c] for c in s] # encoder: take a string, output a list of integers\n",
        "decode = lambda l: ''.join([itos[i] for i in l]) # decoder: take a list of integers, output a string"
      ],
      "metadata": {
        "id": "kfQo-SYv2dxD"
      },
      "execution_count": 11,
      "outputs": []
    },
    {
      "cell_type": "code",
      "source": [
        "print(encode(\"సుశీలమ్మ కళ్ళలో భయం పారాడింది\"))\n",
        "print(decode(encode(\"సుశీలమ్మ కళ్ళలో భయం పారాడింది\")))"
      ],
      "metadata": {
        "colab": {
          "base_uri": "https://localhost:8080/"
        },
        "id": "lD1lF89E2j3Y",
        "outputId": "7d4a0713-ecc8-4cc4-cb8f-5970c3d8a5d3"
      },
      "execution_count": 12,
      "outputs": [
        {
          "output_type": "stream",
          "name": "stdout",
          "text": [
            "[83, 88, 81, 87, 78, 74, 98, 74, 2, 50, 79, 98, 79, 78, 96, 2, 73, 75, 35, 2, 70, 85, 76, 85, 62, 86, 35, 67, 86]\n",
            "సుశీలమ్మ కళ్ళలో భయం పారాడింది\n"
          ]
        }
      ]
    },
    {
      "cell_type": "code",
      "source": [
        "import torch\n",
        "data = torch.tensor(encode(cleaned_text), dtype=torch.long)\n",
        "print(data.shape, data.dtype)\n",
        "print(data[:1000]) # the 1000 characters we looked at earier will to the GPT look like this"
      ],
      "metadata": {
        "colab": {
          "base_uri": "https://localhost:8080/"
        },
        "id": "lskw9O2I2w6y",
        "outputId": "dd38bd89-f0a6-442b-b680-f658d698e42f"
      },
      "execution_count": 13,
      "outputs": [
        {
          "output_type": "stream",
          "name": "stdout",
          "text": [
            "torch.Size([121953879]) torch.int64\n",
            "tensor([ 1,  0, 33, 33,  2, 33, 83, 88, 81, 87, 78, 74, 98, 74,  2, 50, 79, 98,\n",
            "        79, 78, 96,  2, 73, 75, 35,  2, 70, 85, 76, 85, 62, 86, 35, 67, 86, 15,\n",
            "         1,  0, 33, 33,  2, 33,  4, 37, 69, 85, 68,  2, 72, 86, 62, 98, 62,  2,\n",
            "        37, 69, 86,  2, 55, 86, 69, 98, 69, 70, 98, 70, 88, 62, 93,  2, 65, 92,\n",
            "        78, 86, 83, 98, 65, 93,  2, 74, 69,  2, 67, 52, 98, 52, 86, 76, 80, 85,\n",
            "        62, 88,  2, 37, 78, 85,  2, 37, 76, 74, 76, 86, 50,  2, 78, 93, 50, 88,\n",
            "        35, 62, 85,  2, 55, 69, 88, 80, 88, 52, 85,  2, 70, 92, 76, 86, 52, 93,\n",
            "        80, 85, 62, 85, 32,  4,  2, 70, 88, 60, 98, 60, 92, 62, 88,  2, 67, 86,\n",
            "        52, 88, 78, 88,  2, 83, 88, 81, 87, 78, 74, 98, 74,  2, 50, 35, 61, 35,\n",
            "        78, 96,  2, 70, 78, 86, 50, 86, 35, 67, 86, 15,  1,  0, 33, 33,  2, 33,\n",
            "         4, 37, 67, 86,  2, 74, 69, 35,  2, 70, 92, 35, 55, 93, 67, 85, 69, 98,\n",
            "        69, 86,  2, 72, 60, 98, 60, 86,  2, 80, 88, 35, 60, 88, 35, 67, 86, 15,\n",
            "         2, 37, 60, 88, 80, 35, 60, 86,  2, 72, 93, 68, 85, 78, 88,  2, 74, 69,\n",
            "        78, 96,  2, 78, 93, 69, 60, 98, 60, 88,  2, 65, 92, 78, 88, 83, 88, 50,\n",
            "        95, 69, 93, 78, 85,  2, 70, 92, 35, 55, 85, 78, 86, 15,  4,  1,  0, 33,\n",
            "        33,  2, 33,  4, 55, 85, 78, 85, 74, 35, 67, 86,  2, 37, 78, 85, 52, 93,\n",
            "         2, 70, 92, 35, 55, 88, 65, 85, 76, 88,  2, 52, 67, 35, 62, 87, 15,  4,\n",
            "         1,  0, 33, 33,  2, 33,  4, 45, 69, 85, 62, 96,  2, 47, 50, 69, 85, 62,\n",
            "        88,  2, 38,  2, 80, 86, 82, 75, 35,  2, 65, 92, 78, 86, 75, 50, 70, 96,\n",
            "        67, 88, 15,  2, 74, 69, 35,  2, 70, 60, 98, 69, 35, 78, 96,  2, 80, 88,\n",
            "        35, 60, 88, 69, 98, 69, 85, 35,  2, 52, 69, 50,  2, 75, 86, 35, 65,  2,\n",
            "        50, 85, 78, 74, 75, 86, 69, 85,  2, 40,  2, 76, 84, 83, 98, 75, 85, 69,\n",
            "        98, 69, 86,  2, 67, 85, 55, 52, 78, 86, 52, 85, 35, 15,  1,  0, 33, 33,\n",
            "         2, 33, 83, 88, 81, 87, 78, 74, 98, 74,  2, 80, 86, 35, 60, 89,  2, 50,\n",
            "        89, 76, 98, 55, 88, 35, 67, 86, 15,  1,  0, 33, 33,  2, 33,  4, 47, 50,\n",
            "         2, 80, 98, 75, 50, 98, 65, 86, 65, 98, 80, 35,  2, 37, 35, 60, 89,  2,\n",
            "        45, 76, 98, 70, 62, 98, 62, 85, 50,  2, 38,  2, 76, 84, 83, 98, 75, 35,\n",
            "         2, 65, 92, 78, 86, 83, 98, 65, 93,  2, 78, 96, 65, 88, 52, 85,  2, 52,\n",
            "        85, 75, 70, 62, 65, 85, 76, 88, 15,  2, 37, 69, 93, 50,  2, 38, 78, 96,\n",
            "        55, 69, 78, 88,  2, 80, 83, 98, 65, 85, 75, 86, 15,  2, 55, 86, 69, 98,\n",
            "        69, 70, 98, 70, 88, 62, 93,  2, 65, 92, 78, 86, 83, 98, 65, 93,  2, 37,\n",
            "        35, 65, 52, 85,  2, 65, 78, 50, 98, 76, 86, 35, 67, 88, 78, 94,  2, 70,\n",
            "        96, 76, 88,  4,  2, 37, 69, 98, 69, 85, 62, 88, 15,  2, 33,  1,  0, 33,\n",
            "        33,  2, 33,  4, 80, 85, 62, 88,  2, 74, 69, 78, 98, 69, 86,  2, 80, 67,\n",
            "        86, 78, 93, 83, 86,  2, 80, 92, 79, 98, 79, 86, 70, 96, 65, 85, 62, 93,\n",
            "        74, 96,  3,  4,  2, 37, 69, 78, 93, 50,  2, 37, 35, 60, 88, 69, 98, 69,\n",
            "         2, 38, 74, 92,  2, 52, 95, 35, 65, 88, 78, 96,  2, 45, 67, 96,  2, 37,\n",
            "        62, 98, 62, 88, 70, 62, 86, 69, 60, 98, 60, 88,  2, 41, 50, 98, 50, 86,\n",
            "        76, 86, 72, 86, 50, 98, 50, 86, 76, 86,  2, 37, 75, 86, 70, 96, 65, 88,\n",
            "        35, 67, 86, 15,  1,  0, 33, 33,  2, 33, 76, 85, 74, 69, 85, 66, 85, 69,\n",
            "        86, 50, 86,  2, 50, 89, 62, 85,  2, 38,  2, 73, 75, 35,  2, 78, 93, 50,\n",
            "        70, 96, 78, 93, 67, 88, 15,  1,  0, 33, 33,  2, 33, 38,  2, 73, 75, 85,\n",
            "        69, 98, 69, 86,  2, 67, 85, 55, 88, 50, 88, 35, 60, 89,  2, 80, 92, 79,\n",
            "        98, 79, 62, 88, 15,  2, 44, 78, 85,  2, 80, 92, 79, 65, 85, 62, 88, 32,\n",
            "         2, 44, 50, 98, 50, 62, 86, 50, 86,  2, 80, 92, 79, 65, 85, 62, 88, 32,\n",
            "         2, 37, 83, 78, 88,  2, 44, 35, 67, 88, 50, 88,  2, 80, 92, 79, 98, 79,\n",
            "        85, 78, 86, 32,  2, 80, 85, 62, 86, 50, 86,  2, 74, 69, 74, 93, 35,  2,\n",
            "        65, 50, 98, 50, 88, 80,  2, 55, 93, 81, 85, 74, 69, 86,  2, 80, 92, 79,\n",
            "        98, 65, 85, 62, 88, 32,  4,  2, 37, 69, 98, 69, 85, 62, 88, 15,  1,  0,\n",
            "        33, 33,  2, 33, 83, 88, 81, 87, 78, 74, 98, 74, 50, 88,  2, 44, 50, 98,\n",
            "        50, 62, 86, 50, 96,  2, 78, 96, 65, 88,  2, 65, 92, 78, 86, 75, 69, 86,\n",
            "         2, 37, 52, 85, 68, 35, 78, 96, 50, 86,  2, 70, 62, 88, 65, 88, 69, 98,\n",
            "        69,  2, 80, 98, 75, 50, 98, 65, 86, 50, 86,  2, 57, 85, 76, 88, 62, 88,\n",
            "        74, 92, 60, 98, 78, 88,  2, 55, 93, 65, 86, 50, 86,  2, 37, 35, 67, 86,\n",
            "        69, 60, 98, 60, 88,  2, 37, 69, 86, 70, 86, 35, 55, 86, 35, 67, 86, 15,\n",
            "        33,  2, 33,  1,  0, 33, 33,  2, 33,  4])\n"
          ]
        }
      ]
    },
    {
      "cell_type": "code",
      "source": [
        "# Let's now split up the data into train and validation sets\n",
        "n = int(0.9*len(data)) # first 90% will be train, rest val\n",
        "train_data = data[:n]\n",
        "val_data = data[n:]"
      ],
      "metadata": {
        "id": "Jr3aPVdM3IIL"
      },
      "execution_count": 14,
      "outputs": []
    },
    {
      "cell_type": "code",
      "source": [
        "block_size = 8\n",
        "x = train_data[:block_size]\n",
        "y = train_data[1:block_size+1]\n",
        "for t in range(block_size):\n",
        "    context = x[:t+1]\n",
        "    target = y[t]\n",
        "    print(f\"when input is {context} the target: {target}\")"
      ],
      "metadata": {
        "colab": {
          "base_uri": "https://localhost:8080/"
        },
        "id": "aLLT54Wd3Sb0",
        "outputId": "50d5ab7e-96cf-4845-b9fc-f16514dae204"
      },
      "execution_count": 15,
      "outputs": [
        {
          "output_type": "stream",
          "name": "stdout",
          "text": [
            "when input is tensor([1]) the target: 0\n",
            "when input is tensor([1, 0]) the target: 33\n",
            "when input is tensor([ 1,  0, 33]) the target: 33\n",
            "when input is tensor([ 1,  0, 33, 33]) the target: 2\n",
            "when input is tensor([ 1,  0, 33, 33,  2]) the target: 33\n",
            "when input is tensor([ 1,  0, 33, 33,  2, 33]) the target: 83\n",
            "when input is tensor([ 1,  0, 33, 33,  2, 33, 83]) the target: 88\n",
            "when input is tensor([ 1,  0, 33, 33,  2, 33, 83, 88]) the target: 81\n"
          ]
        }
      ]
    },
    {
      "cell_type": "code",
      "source": [
        "torch.manual_seed(1337)\n",
        "batch_size = 4 # how many independent sequences will we process in parallel?\n",
        "block_size = 8 # what is the maximum context length for predictions?\n",
        "\n",
        "def get_batch(split):\n",
        "    # generate a small batch of data of inputs x and targets y\n",
        "    data = train_data if split == 'train' else val_data\n",
        "    ix = torch.randint(len(data) - block_size, (batch_size,))\n",
        "    x = torch.stack([data[i:i+block_size] for i in ix])\n",
        "    y = torch.stack([data[i+1:i+block_size+1] for i in ix])\n",
        "    return x, y\n",
        "\n",
        "xb, yb = get_batch('train')\n",
        "print('inputs:')\n",
        "print(xb.shape)\n",
        "print(xb)\n",
        "print('targets:')\n",
        "print(yb.shape)\n",
        "print(yb)\n",
        "\n",
        "print('----')\n",
        "\n",
        "for b in range(batch_size): # batch dimension\n",
        "    for t in range(block_size): # time dimension\n",
        "        context = xb[b, :t+1]\n",
        "        target = yb[b,t]\n",
        "        print(f\"when input is {context.tolist()} the target: {target}\")"
      ],
      "metadata": {
        "colab": {
          "base_uri": "https://localhost:8080/"
        },
        "id": "02gjngPz3Zkj",
        "outputId": "c3cebefd-3ace-477a-b86c-a0350be915fe"
      },
      "execution_count": 16,
      "outputs": [
        {
          "output_type": "stream",
          "name": "stdout",
          "text": [
            "inputs:\n",
            "torch.Size([4, 8])\n",
            "tensor([[50, 60, 93, 15,  2, 73, 85, 76],\n",
            "        [15, 33, 33, 33,  2, 33, 37, 70],\n",
            "        [76, 86, 70, 86, 35, 55, 85, 62],\n",
            "        [61, 85, 69, 87, 78, 85, 13,  2]])\n",
            "targets:\n",
            "torch.Size([4, 8])\n",
            "tensor([[60, 93, 15,  2, 73, 85, 76, 98],\n",
            "        [33, 33, 33,  2, 33, 37, 70, 98],\n",
            "        [86, 70, 86, 35, 55, 85, 62, 88],\n",
            "        [85, 69, 87, 78, 85, 13,  2, 81]])\n",
            "----\n",
            "when input is [50] the target: 60\n",
            "when input is [50, 60] the target: 93\n",
            "when input is [50, 60, 93] the target: 15\n",
            "when input is [50, 60, 93, 15] the target: 2\n",
            "when input is [50, 60, 93, 15, 2] the target: 73\n",
            "when input is [50, 60, 93, 15, 2, 73] the target: 85\n",
            "when input is [50, 60, 93, 15, 2, 73, 85] the target: 76\n",
            "when input is [50, 60, 93, 15, 2, 73, 85, 76] the target: 98\n",
            "when input is [15] the target: 33\n",
            "when input is [15, 33] the target: 33\n",
            "when input is [15, 33, 33] the target: 33\n",
            "when input is [15, 33, 33, 33] the target: 2\n",
            "when input is [15, 33, 33, 33, 2] the target: 33\n",
            "when input is [15, 33, 33, 33, 2, 33] the target: 37\n",
            "when input is [15, 33, 33, 33, 2, 33, 37] the target: 70\n",
            "when input is [15, 33, 33, 33, 2, 33, 37, 70] the target: 98\n",
            "when input is [76] the target: 86\n",
            "when input is [76, 86] the target: 70\n",
            "when input is [76, 86, 70] the target: 86\n",
            "when input is [76, 86, 70, 86] the target: 35\n",
            "when input is [76, 86, 70, 86, 35] the target: 55\n",
            "when input is [76, 86, 70, 86, 35, 55] the target: 85\n",
            "when input is [76, 86, 70, 86, 35, 55, 85] the target: 62\n",
            "when input is [76, 86, 70, 86, 35, 55, 85, 62] the target: 88\n",
            "when input is [61] the target: 85\n",
            "when input is [61, 85] the target: 69\n",
            "when input is [61, 85, 69] the target: 87\n",
            "when input is [61, 85, 69, 87] the target: 78\n",
            "when input is [61, 85, 69, 87, 78] the target: 85\n",
            "when input is [61, 85, 69, 87, 78, 85] the target: 13\n",
            "when input is [61, 85, 69, 87, 78, 85, 13] the target: 2\n",
            "when input is [61, 85, 69, 87, 78, 85, 13, 2] the target: 81\n"
          ]
        }
      ]
    },
    {
      "cell_type": "code",
      "source": [
        "print(xb) # our input to the transformer"
      ],
      "metadata": {
        "colab": {
          "base_uri": "https://localhost:8080/"
        },
        "id": "BstYm1g53eXC",
        "outputId": "d91204cf-e3ee-41bb-b69c-ee91bc3b92cf"
      },
      "execution_count": 17,
      "outputs": [
        {
          "output_type": "stream",
          "name": "stdout",
          "text": [
            "tensor([[50, 60, 93, 15,  2, 73, 85, 76],\n",
            "        [15, 33, 33, 33,  2, 33, 37, 70],\n",
            "        [76, 86, 70, 86, 35, 55, 85, 62],\n",
            "        [61, 85, 69, 87, 78, 85, 13,  2]])\n"
          ]
        }
      ]
    },
    {
      "cell_type": "code",
      "source": [
        "import torch\n",
        "import torch.nn as nn\n",
        "from torch.nn import functional as F\n",
        "\n",
        "# hyperparameters\n",
        "batch_size = 64 # how many independent sequences will we process in parallel?\n",
        "block_size = 256 # what is the maximum context length for predictions?\n",
        "max_iters = 3000\n",
        "eval_interval = 500\n",
        "learning_rate = 3e-4\n",
        "device = 'cuda' if torch.cuda.is_available() else 'cpu'\n",
        "eval_iters = 200\n",
        "n_embd = 384\n",
        "n_head = 6\n",
        "n_layer = 6\n",
        "dropout = 0.2"
      ],
      "metadata": {
        "id": "TvWRxbFd3vFl"
      },
      "execution_count": 30,
      "outputs": []
    },
    {
      "cell_type": "code",
      "source": [
        "# data loading\n",
        "def get_batch(split):\n",
        "    # generate a small batch of data of inputs x and targets y\n",
        "    data = train_data if split == 'train' else val_data\n",
        "    ix = torch.randint(len(data) - block_size, (batch_size,))\n",
        "    x = torch.stack([data[i:i+block_size] for i in ix])\n",
        "    y = torch.stack([data[i+1:i+block_size+1] for i in ix])\n",
        "    x, y = x.to(device), y.to(device)\n",
        "    return x, y"
      ],
      "metadata": {
        "id": "wHmXXvxc3gjJ"
      },
      "execution_count": 19,
      "outputs": []
    },
    {
      "cell_type": "code",
      "source": [
        "@torch.no_grad()\n",
        "def estimate_loss():\n",
        "    out = {}\n",
        "    model.eval()\n",
        "    for split in ['train', 'val']:\n",
        "        losses = torch.zeros(eval_iters)\n",
        "        for k in range(eval_iters):\n",
        "            X, Y = get_batch(split)\n",
        "            logits, loss = model(X, Y)\n",
        "            losses[k] = loss.item()\n",
        "        out[split] = losses.mean()\n",
        "    model.train()\n",
        "    return out"
      ],
      "metadata": {
        "id": "t1m4v1Da3zwz"
      },
      "execution_count": 20,
      "outputs": []
    },
    {
      "cell_type": "code",
      "source": [
        "class Head(nn.Module):\n",
        "    \"\"\" one head of self-attention \"\"\"\n",
        "\n",
        "    def __init__(self, head_size):\n",
        "        super().__init__()\n",
        "        self.key = nn.Linear(n_embd, head_size, bias=False)\n",
        "        self.query = nn.Linear(n_embd, head_size, bias=False)\n",
        "        self.value = nn.Linear(n_embd, head_size, bias=False)\n",
        "        self.register_buffer('tril', torch.tril(torch.ones(block_size, block_size)))\n",
        "\n",
        "        self.dropout = nn.Dropout(dropout)\n",
        "\n",
        "    def forward(self, x):\n",
        "        # input of size (batch, time-step, channels)\n",
        "        # output of size (batch, time-step, head size)\n",
        "        B,T,C = x.shape\n",
        "        k = self.key(x)   # (B,T,hs)\n",
        "        q = self.query(x) # (B,T,hs)\n",
        "        # compute attention scores (\"affinities\")\n",
        "        wei = q @ k.transpose(-2,-1) * k.shape[-1]**-0.5 # (B, T, hs) @ (B, hs, T) -> (B, T, T)\n",
        "        wei = wei.masked_fill(self.tril[:T, :T] == 0, float('-inf')) # (B, T, T)\n",
        "        wei = F.softmax(wei, dim=-1) # (B, T, T)\n",
        "        wei = self.dropout(wei)\n",
        "        # perform the weighted aggregation of the values\n",
        "        v = self.value(x) # (B,T,hs)\n",
        "        out = wei @ v # (B, T, T) @ (B, T, hs) -> (B, T, hs)\n",
        "        return out"
      ],
      "metadata": {
        "id": "ioT5Etau3-LO"
      },
      "execution_count": 21,
      "outputs": []
    },
    {
      "cell_type": "code",
      "source": [
        "class MultiHeadAttention(nn.Module):\n",
        "    \"\"\" multiple heads of self-attention in parallel \"\"\"\n",
        "\n",
        "    def __init__(self, num_heads, head_size):\n",
        "        super().__init__()\n",
        "        self.heads = nn.ModuleList([Head(head_size) for _ in range(num_heads)])\n",
        "        self.proj = nn.Linear(head_size * num_heads, n_embd)\n",
        "        self.dropout = nn.Dropout(dropout)\n",
        "\n",
        "    def forward(self, x):\n",
        "        out = torch.cat([h(x) for h in self.heads], dim=-1)\n",
        "        out = self.dropout(self.proj(out))\n",
        "        return out"
      ],
      "metadata": {
        "id": "UMYT3DY03_Fk"
      },
      "execution_count": 22,
      "outputs": []
    },
    {
      "cell_type": "code",
      "source": [
        "class FeedFoward(nn.Module):\n",
        "    \"\"\" a simple linear layer followed by a non-linearity \"\"\"\n",
        "\n",
        "    def __init__(self, n_embd):\n",
        "        super().__init__()\n",
        "        self.net = nn.Sequential(\n",
        "            nn.Linear(n_embd, 4 * n_embd),\n",
        "            nn.ReLU(),\n",
        "            nn.Linear(4 * n_embd, n_embd),\n",
        "            nn.Dropout(dropout),\n",
        "        )\n",
        "\n",
        "    def forward(self, x):\n",
        "        return self.net(x)"
      ],
      "metadata": {
        "id": "k1lffs_P4Bmf"
      },
      "execution_count": 23,
      "outputs": []
    },
    {
      "cell_type": "code",
      "source": [
        "class Block(nn.Module):\n",
        "    \"\"\" Transformer block: communication followed by computation \"\"\"\n",
        "\n",
        "    def __init__(self, n_embd, n_head):\n",
        "        # n_embd: embedding dimension, n_head: the number of heads we'd like\n",
        "        super().__init__()\n",
        "        head_size = n_embd // n_head\n",
        "        self.sa = MultiHeadAttention(n_head, head_size)\n",
        "        self.ffwd = FeedFoward(n_embd)\n",
        "        self.ln1 = nn.LayerNorm(n_embd)\n",
        "        self.ln2 = nn.LayerNorm(n_embd)\n",
        "\n",
        "    def forward(self, x):\n",
        "        x = x + self.sa(self.ln1(x))\n",
        "        x = x + self.ffwd(self.ln2(x))\n",
        "        return x"
      ],
      "metadata": {
        "id": "0DwTxml44D4D"
      },
      "execution_count": 24,
      "outputs": []
    },
    {
      "cell_type": "code",
      "source": [
        "class GPTLanguageModel(nn.Module):\n",
        "\n",
        "    def __init__(self):\n",
        "        super().__init__()\n",
        "        # each token directly reads off the logits for the next token from a lookup table\n",
        "        self.token_embedding_table = nn.Embedding(vocab_size, n_embd)\n",
        "        self.position_embedding_table = nn.Embedding(block_size, n_embd)\n",
        "        self.blocks = nn.Sequential(*[Block(n_embd, n_head=n_head) for _ in range(n_layer)])\n",
        "        self.ln_f = nn.LayerNorm(n_embd) # final layer norm\n",
        "        self.lm_head = nn.Linear(n_embd, vocab_size)\n",
        "\n",
        "        # better init, not covered in the original GPT video, but important, will cover in followup video\n",
        "        self.apply(self._init_weights)\n",
        "\n",
        "    def _init_weights(self, module):\n",
        "        if isinstance(module, nn.Linear):\n",
        "            torch.nn.init.normal_(module.weight, mean=0.0, std=0.02)\n",
        "            if module.bias is not None:\n",
        "                torch.nn.init.zeros_(module.bias)\n",
        "        elif isinstance(module, nn.Embedding):\n",
        "            torch.nn.init.normal_(module.weight, mean=0.0, std=0.02)\n",
        "\n",
        "    def forward(self, idx, targets=None):\n",
        "        B, T = idx.shape\n",
        "\n",
        "        # idx and targets are both (B,T) tensor of integers\n",
        "        tok_emb = self.token_embedding_table(idx) # (B,T,C)\n",
        "        pos_emb = self.position_embedding_table(torch.arange(T, device=device)) # (T,C)\n",
        "        x = tok_emb + pos_emb # (B,T,C)\n",
        "        x = self.blocks(x) # (B,T,C)\n",
        "        x = self.ln_f(x) # (B,T,C)\n",
        "        logits = self.lm_head(x) # (B,T,vocab_size)\n",
        "\n",
        "        if targets is None:\n",
        "            loss = None\n",
        "        else:\n",
        "            B, T, C = logits.shape\n",
        "            logits = logits.view(B*T, C)\n",
        "            targets = targets.view(B*T)\n",
        "            loss = F.cross_entropy(logits, targets)\n",
        "\n",
        "        return logits, loss\n",
        "\n",
        "    def generate(self, idx, max_new_tokens):\n",
        "        # idx is (B, T) array of indices in the current context\n",
        "        for _ in range(max_new_tokens):\n",
        "            # crop idx to the last block_size tokens\n",
        "            idx_cond = idx[:, -block_size:]\n",
        "            # get the predictions\n",
        "            logits, loss = self(idx_cond)\n",
        "            # focus only on the last time step\n",
        "            logits = logits[:, -1, :] # becomes (B, C)\n",
        "            # apply softmax to get probabilities\n",
        "            probs = F.softmax(logits, dim=-1) # (B, C)\n",
        "            # sample from the distribution\n",
        "            idx_next = torch.multinomial(probs, num_samples=1) # (B, 1)\n",
        "            # append sampled index to the running sequence\n",
        "            idx = torch.cat((idx, idx_next), dim=1) # (B, T+1)\n",
        "        return idx"
      ],
      "metadata": {
        "id": "n5rmEKgu4IHa"
      },
      "execution_count": 25,
      "outputs": []
    },
    {
      "cell_type": "code",
      "source": [
        "model = GPTLanguageModel()\n",
        "m = model.to(device)\n",
        "# print the number of parameters in the model\n",
        "print(sum(p.numel() for p in m.parameters())/1e6, 'M parameters')"
      ],
      "metadata": {
        "colab": {
          "base_uri": "https://localhost:8080/"
        },
        "id": "Byvcf93R4JUQ",
        "outputId": "977ecc52-4606-4431-fc66-a0ab41f20866"
      },
      "execution_count": 26,
      "outputs": [
        {
          "output_type": "stream",
          "name": "stdout",
          "text": [
            "10.824303 M parameters\n"
          ]
        }
      ]
    },
    {
      "cell_type": "code",
      "source": [
        "# create a PyTorch optimizer\n",
        "optimizer = torch.optim.AdamW(model.parameters(), lr=learning_rate)"
      ],
      "metadata": {
        "id": "ou64hG-E4NDz"
      },
      "execution_count": 27,
      "outputs": []
    },
    {
      "cell_type": "code",
      "source": [
        "for iter in range(max_iters):\n",
        "\n",
        "    # every once in a while evaluate the loss on train and val sets\n",
        "    if iter % eval_interval == 0 or iter == max_iters - 1:\n",
        "        losses = estimate_loss()\n",
        "        print(f\"step {iter}: train loss {losses['train']:.4f}, val loss {losses['val']:.4f}\")\n",
        "\n",
        "    # sample a batch of data\n",
        "    xb, yb = get_batch('train')\n",
        "\n",
        "    # evaluate the loss\n",
        "    logits, loss = model(xb, yb)\n",
        "    optimizer.zero_grad(set_to_none=True)\n",
        "    loss.backward()\n",
        "    optimizer.step()"
      ],
      "metadata": {
        "colab": {
          "base_uri": "https://localhost:8080/"
        },
        "id": "tcPC90bd4Ry5",
        "outputId": "67fbbf92-fef0-400e-f01d-e867edbb2002"
      },
      "execution_count": 31,
      "outputs": [
        {
          "output_type": "stream",
          "name": "stdout",
          "text": [
            "step 0: train loss 2.6922, val loss 2.6929\n",
            "step 500: train loss 1.8841, val loss 1.8839\n",
            "step 1000: train loss 1.6529, val loss 1.6499\n",
            "step 1500: train loss 1.5533, val loss 1.5508\n",
            "step 2000: train loss 1.4897, val loss 1.4855\n",
            "step 2500: train loss 1.4521, val loss 1.4498\n",
            "step 2999: train loss 1.4133, val loss 1.4139\n"
          ]
        }
      ]
    },
    {
      "cell_type": "code",
      "source": [
        "context = torch.zeros((1, 1), dtype=torch.long, device=device)\n",
        "print(decode(m.generate(context, max_new_tokens=500)[0].tolist()))"
      ],
      "metadata": {
        "colab": {
          "base_uri": "https://localhost:8080/"
        },
        "id": "-RZ7OduT4bd7",
        "outputId": "1e29d7ca-10e6-4260-eba1-d90eb210068e"
      },
      "execution_count": 32,
      "outputs": [
        {
          "output_type": "stream",
          "name": "stdout",
          "text": [
            "\n",
            "    చెయ్యి. కొత్తగా తిరిగి నేల్చుకుని తన వీరు కప్పియింటినేటపట్టుంది. దాన్నా, నాకు కెాదురిచెత్తే ఎన్ని అభిమందికి అన్యకం చె. ఐదుకెళ్ళి చెప్పు... టెల్రాండ్లు కోరికలాగా చూడడంతసుంది; రాయడు.\r\n",
            "పాడులో చూసినట్లు కళ్ళకీటముందుకు ఒక చప్పున పంకజం, మొహం లేకుండా మత బలహీేళ్ళు.\r\n",
            "భంజం బతుకుతో, హంతకురాల్ళో మూలంగా పట్టి.\r\n",
            "నేటికి మందుని గొప్పగించింది కాబోతు!\r\n",
            "పార్యేకంతో పచ్చింది.\r\n",
            "నార్ధ్యాజికి ఎప్పుడొస్తే నీకు తెలిసింది.\r\n",
            "మట్బల పొందడు నా ఇద్దంటార్ నీ అవుతూంది!\r\n",
            "మా కేక్కింత బాగుంది, అనుమానం నీకుకాబోతూంది లోపలికి వెళ్\n"
          ]
        }
      ]
    }
  ]
}